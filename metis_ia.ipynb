{
  "nbformat": 4,
  "nbformat_minor": 0,
  "metadata": {
    "colab": {
      "provenance": []
    },
    "kernelspec": {
      "name": "python3",
      "display_name": "Python 3"
    },
    "language_info": {
      "name": "python"
    }
  },
  "cells": [
    {
      "cell_type": "code",
      "source": [
        "pip install tensorflow scikit-learn numpy pandas pyserial"
      ],
      "metadata": {
        "id": "rqp__GVI7s4x"
      },
      "execution_count": null,
      "outputs": []
    },
    {
      "cell_type": "code",
      "source": [
        "import tensorflow as tf\n",
        "from tensorflow.keras.models import Sequential\n",
        "from tensorflow.keras.layers import Dense, LSTM\n",
        "from sklearn.model_selection import train_test_split\n",
        "from sklearn.preprocessing import StandardScaler\n",
        "import numpy as np\n",
        "import pandas as pd\n",
        "\n",
        "# Carregar dados (substitua com seus próprios dados)\n",
        "# Exemplo de formato: timestamp, temperatura, umidade, accX, accY, accZ, gyroX, gyroY, gyroZ, ataque_epiletico\n",
        "# A última coluna indica se ocorreu um ataque epilético (1) ou não (0).\n",
        "data = pd.read_csv('seus_dados.csv')\n",
        "\n",
        "# Separar os dados em recursos (X) e rótulos (y)\n",
        "X = data.iloc[:, 1:-1].values\n",
        "y = data.iloc[:, -1].values\n",
        "\n",
        "# Dividir os dados em conjuntos de treinamento e teste\n",
        "X_train, X_test, y_train, y_test = train_test_split(X, y, test_size=0.2, random_state=42)\n",
        "\n",
        "# Normalizar os dados\n",
        "scaler = StandardScaler()\n",
        "X_train = scaler.fit_transform(X_train)\n",
        "X_test = scaler.transform(X_test)\n",
        "\n",
        "# Construir o modelo LSTM (pode ser necessário ajustar de acordo com os dados)\n",
        "model = Sequential()\n",
        "model.add(LSTM(50, input_shape=(X_train.shape[1], 1)))\n",
        "model.add(Dense(1, activation='sigmoid'))\n",
        "\n",
        "# Compilar o modelo\n",
        "model.compile(optimizer='adam', loss='binary_crossentropy', metrics=['accuracy'])\n",
        "\n",
        "# Treinar o modelo\n",
        "model.fit(X_train, y_train, epochs=10, batch_size=32, validation_split=0.2)\n",
        "\n",
        "# Avaliar o modelo no conjunto de teste\n",
        "accuracy = model.evaluate(X_test, y_test)[1]\n",
        "print(f'Acurácia do modelo: {accuracy * 100:.2f}%')\n",
        "\n",
        "# Fazer predições com novos dados\n",
        "new_data = scaler.transform(np.array([[temp, umidade, accX, accY, accZ, gyroX, gyroY, gyroZ]]))\n",
        "prediction = model.predict(new_data.reshape(1, -1, 1))\n",
        "\n",
        "# A saída de 'prediction' indicará a probabilidade de ocorrer um ataque epilético\n",
        "# Por exemplo, se prediction > 0.5, pode ser considerado como um possível ataque."
      ],
      "metadata": {
        "id": "r-i0WCJP7qf-"
      },
      "execution_count": null,
      "outputs": []
    }
  ]
}